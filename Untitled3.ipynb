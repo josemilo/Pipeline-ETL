{
  "nbformat": 4,
  "nbformat_minor": 0,
  "metadata": {
    "colab": {
      "provenance": [],
      "authorship_tag": "ABX9TyNdQKrkqv5cuxv0y2XXyQsn",
      "include_colab_link": true
    },
    "kernelspec": {
      "name": "python3",
      "display_name": "Python 3"
    },
    "language_info": {
      "name": "python"
    }
  },
  "cells": [
    {
      "cell_type": "markdown",
      "metadata": {
        "id": "view-in-github",
        "colab_type": "text"
      },
      "source": [
        "<a href=\"https://colab.research.google.com/github/josemilo/Pipeline-ETL/blob/main/Untitled3.ipynb\" target=\"_parent\"><img src=\"https://colab.research.google.com/assets/colab-badge.svg\" alt=\"Open In Colab\"/></a>"
      ]
    },
    {
      "cell_type": "markdown",
      "source": [
        "###EXTRAÇÃO\n"
      ],
      "metadata": {
        "id": "IsDu3NyNCAnL"
      }
    },
    {
      "cell_type": "code",
      "source": [
        "def extract(path='clientes.csv'):\n",
        "    try:\n",
        "        df = pd.read_csv(path)\n",
        "        print(\"✅ Extração concluída.\")\n",
        "        return df\n",
        "    except FileNotFoundError:\n",
        "        print(\"❌ Arquivo clientes.csv não encontrado.\")\n",
        "        return pd.DataFrame()"
      ],
      "metadata": {
        "id": "lA51RjiBBPWE"
      },
      "execution_count": 35,
      "outputs": []
    },
    {
      "cell_type": "markdown",
      "source": [
        "# TRANSFORMAÇÃO"
      ],
      "metadata": {
        "id": "lYnreiNQCQMf"
      }
    },
    {
      "cell_type": "code",
      "source": [
        "def transform(df):\n",
        "    if df.empty:\n",
        "        return df\n",
        "    # Limpeza básica\n",
        "    df.drop_duplicates(inplace=True)\n",
        "    df['nome'] = df['nome'].str.strip().str.title()\n",
        "    df['email'] = df['email'].str.strip().str.lower()\n",
        "    print(\"✅ Transformação concluída.\")\n",
        "    return df\n",
        "\n"
      ],
      "metadata": {
        "id": "4UoX4pPDD9wU"
      },
      "execution_count": 38,
      "outputs": []
    },
    {
      "cell_type": "markdown",
      "source": [
        "# CARREGAR\n"
      ],
      "metadata": {
        "id": "oN6f5n-EEFRo"
      }
    },
    {
      "cell_type": "code",
      "source": [
        "def load(df):\n",
        "    if df.empty:\n",
        "        return []\n",
        "    colunas_desejadas = ['nome', 'email', 'telefone', 'cidade', 'data_cadastro']\n",
        "    dados = df[colunas_desejadas].to_dict(orient='records')\n",
        "    print(\"✅ Carga concluída (simulada).\")\n",
        "    return dados"
      ],
      "metadata": {
        "id": "Rb1vaF6ZBYhm"
      },
      "execution_count": 40,
      "outputs": []
    },
    {
      "cell_type": "markdown",
      "source": [
        "# PIPELINE ETL"
      ],
      "metadata": {
        "id": "-H7nFupGEKSM"
      }
    },
    {
      "cell_type": "code",
      "source": [
        "def etl_pipeline(path='clientes.csv'):\n",
        "    df = extract(path)\n",
        "    df = transform(df)\n",
        "    resultado = load(df)\n",
        "    return resultado\n"
      ],
      "metadata": {
        "id": "cwKOH6v5EZOJ"
      },
      "execution_count": 41,
      "outputs": []
    },
    {
      "cell_type": "code",
      "source": [
        "if __name__ == \"__main__\":\n",
        "    dados_clientes = etl_pipeline()\n",
        "    print(\"\\n📋 Clientes:\")\n",
        "    for cliente in dados_clientes:\n",
        "        print(f\"- Nome: {cliente['nome']}, Email: {cliente['email']}, \"\n",
        "              f\"Telefone: {cliente['telefone']}, Cidade: {cliente['cidade']}, \"\n",
        "              f\"Cadastro: {cliente['data_cadastro']}\")"
      ],
      "metadata": {
        "colab": {
          "base_uri": "https://localhost:8080/"
        },
        "id": "vQQZxDjnEe5s",
        "outputId": "b74c1353-eb15-4d3e-8ab2-84d61651772b"
      },
      "execution_count": 42,
      "outputs": [
        {
          "output_type": "stream",
          "name": "stdout",
          "text": [
            "✅ Extração concluída.\n",
            "✅ Transformação concluída.\n",
            "✅ Carga concluída (simulada).\n",
            "\n",
            "📋 Clientes:\n",
            "- Nome: Ana Souza, Email: ana.souza@email.com, Telefone: 11999990001, Cidade: São Paulo, Cadastro: 2023-01-15\n",
            "- Nome: Carlos Lima, Email: carlos.lima@email.com, Telefone: 11988880002, Cidade: São Paulo, Cadastro: 2023-03-22\n",
            "- Nome: Fernanda Alves, Email: fernanda.alves@email.com, Telefone: 21977770003, Cidade: Rio de Janeiro, Cadastro: 2023-07-10\n",
            "- Nome: João Pedro, Email: joao.pedro@email.com, Telefone: 31966660004, Cidade: Belo Horizonte, Cadastro: 2023-12-01\n"
          ]
        }
      ]
    }
  ]
}